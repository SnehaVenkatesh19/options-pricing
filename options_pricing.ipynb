{
  "cells": [
    {
      "cell_type": "code",
      "execution_count": null,
      "id": "8d0edf6d-16d2-4ccc-b8df-8db86b6d8eef",
      "metadata": {
        "id": "8d0edf6d-16d2-4ccc-b8df-8db86b6d8eef"
      },
      "outputs": [],
      "source": [
        "import pandas as pd\n",
        "from sklearn.linear_model import LinearRegression\n",
        "from sklearn.metrics import mean_squared_error\n",
        "from sklearn.tree import DecisionTreeRegressor\n",
        "from sklearn.model_selection import train_test_split\n",
        "from sklearn.metrics import mean_squared_error, mean_absolute_error, r2_score\n",
        "from sklearn.ensemble import RandomForestRegressor"
      ]
    },
    {
      "cell_type": "code",
      "execution_count": null,
      "id": "59be7351-a999-4d23-99ff-f72d6bfc804c",
      "metadata": {
        "id": "59be7351-a999-4d23-99ff-f72d6bfc804c"
      },
      "outputs": [],
      "source": [
        "train=pd.read_csv('option_train.csv')"
      ]
    },
    {
      "cell_type": "code",
      "execution_count": null,
      "id": "093b79d5-5ac5-4151-a76b-f725f0c23e82",
      "metadata": {
        "id": "093b79d5-5ac5-4151-a76b-f725f0c23e82",
        "outputId": "6e8308a9-4ff2-455d-9a21-17430ee56983"
      },
      "outputs": [
        {
          "data": {
            "text/html": [
              "<div>\n",
              "<style scoped>\n",
              "    .dataframe tbody tr th:only-of-type {\n",
              "        vertical-align: middle;\n",
              "    }\n",
              "\n",
              "    .dataframe tbody tr th {\n",
              "        vertical-align: top;\n",
              "    }\n",
              "\n",
              "    .dataframe thead th {\n",
              "        text-align: right;\n",
              "    }\n",
              "</style>\n",
              "<table border=\"1\" class=\"dataframe\">\n",
              "  <thead>\n",
              "    <tr style=\"text-align: right;\">\n",
              "      <th></th>\n",
              "      <th>Unnamed: 0</th>\n",
              "      <th>Value</th>\n",
              "      <th>S</th>\n",
              "      <th>K</th>\n",
              "      <th>tau</th>\n",
              "      <th>r</th>\n",
              "      <th>BS</th>\n",
              "    </tr>\n",
              "  </thead>\n",
              "  <tbody>\n",
              "    <tr>\n",
              "      <th>0</th>\n",
              "      <td>1</td>\n",
              "      <td>348.500</td>\n",
              "      <td>1394.46</td>\n",
              "      <td>1050</td>\n",
              "      <td>0.128767</td>\n",
              "      <td>0.0116</td>\n",
              "      <td>Under</td>\n",
              "    </tr>\n",
              "    <tr>\n",
              "      <th>1</th>\n",
              "      <td>2</td>\n",
              "      <td>149.375</td>\n",
              "      <td>1432.25</td>\n",
              "      <td>1400</td>\n",
              "      <td>0.679452</td>\n",
              "      <td>0.0113</td>\n",
              "      <td>Under</td>\n",
              "    </tr>\n",
              "    <tr>\n",
              "      <th>2</th>\n",
              "      <td>3</td>\n",
              "      <td>294.500</td>\n",
              "      <td>1478.90</td>\n",
              "      <td>1225</td>\n",
              "      <td>0.443836</td>\n",
              "      <td>0.0112</td>\n",
              "      <td>Under</td>\n",
              "    </tr>\n",
              "    <tr>\n",
              "      <th>3</th>\n",
              "      <td>4</td>\n",
              "      <td>3.375</td>\n",
              "      <td>1369.89</td>\n",
              "      <td>1500</td>\n",
              "      <td>0.117808</td>\n",
              "      <td>0.0119</td>\n",
              "      <td>Over</td>\n",
              "    </tr>\n",
              "    <tr>\n",
              "      <th>4</th>\n",
              "      <td>5</td>\n",
              "      <td>84.000</td>\n",
              "      <td>1366.42</td>\n",
              "      <td>1350</td>\n",
              "      <td>0.298630</td>\n",
              "      <td>0.0119</td>\n",
              "      <td>Under</td>\n",
              "    </tr>\n",
              "  </tbody>\n",
              "</table>\n",
              "</div>"
            ],
            "text/plain": [
              "   Unnamed: 0    Value        S     K       tau       r     BS\n",
              "0           1  348.500  1394.46  1050  0.128767  0.0116  Under\n",
              "1           2  149.375  1432.25  1400  0.679452  0.0113  Under\n",
              "2           3  294.500  1478.90  1225  0.443836  0.0112  Under\n",
              "3           4    3.375  1369.89  1500  0.117808  0.0119   Over\n",
              "4           5   84.000  1366.42  1350  0.298630  0.0119  Under"
            ]
          },
          "execution_count": 4,
          "metadata": {},
          "output_type": "execute_result"
        }
      ],
      "source": [
        "train.head()"
      ]
    },
    {
      "cell_type": "code",
      "execution_count": null,
      "id": "79648dc0-5e42-4c96-a542-796264f8e4df",
      "metadata": {
        "id": "79648dc0-5e42-4c96-a542-796264f8e4df",
        "outputId": "99feb15a-3ef5-4ad1-f64a-6845cc672c7f"
      },
      "outputs": [
        {
          "data": {
            "text/plain": [
              "5000"
            ]
          },
          "execution_count": 6,
          "metadata": {},
          "output_type": "execute_result"
        }
      ],
      "source": [
        "len(train)"
      ]
    },
    {
      "cell_type": "code",
      "execution_count": null,
      "id": "3a1fd7f5-75a3-4a58-9ccf-f369b8a66074",
      "metadata": {
        "id": "3a1fd7f5-75a3-4a58-9ccf-f369b8a66074"
      },
      "outputs": [],
      "source": [
        "train.dropna(inplace=True)"
      ]
    },
    {
      "cell_type": "code",
      "execution_count": null,
      "id": "8d518dec-d3ec-4ba2-afd7-efdbbceb0665",
      "metadata": {
        "id": "8d518dec-d3ec-4ba2-afd7-efdbbceb0665",
        "outputId": "6f35d1cb-47af-4a70-bc40-919e0e648b71"
      },
      "outputs": [
        {
          "data": {
            "text/plain": [
              "5000"
            ]
          },
          "execution_count": 8,
          "metadata": {},
          "output_type": "execute_result"
        }
      ],
      "source": [
        "len(train)"
      ]
    },
    {
      "cell_type": "code",
      "execution_count": null,
      "id": "71d8ae0e-dc7a-4e69-b3a6-0bcd149823be",
      "metadata": {
        "id": "71d8ae0e-dc7a-4e69-b3a6-0bcd149823be"
      },
      "outputs": [],
      "source": [
        "train.drop_duplicates(inplace=True)"
      ]
    },
    {
      "cell_type": "code",
      "execution_count": null,
      "id": "fa9e52b5-a2fc-4463-8a52-ffce2f51b1a3",
      "metadata": {
        "id": "fa9e52b5-a2fc-4463-8a52-ffce2f51b1a3",
        "outputId": "b670935e-e8f9-4a29-908b-447d3314ff97"
      },
      "outputs": [
        {
          "data": {
            "text/plain": [
              "5000"
            ]
          },
          "execution_count": 10,
          "metadata": {},
          "output_type": "execute_result"
        }
      ],
      "source": [
        "len(train)"
      ]
    },
    {
      "cell_type": "code",
      "execution_count": null,
      "id": "b133b799-0bfe-443a-b068-59c9198902f0",
      "metadata": {
        "id": "b133b799-0bfe-443a-b068-59c9198902f0"
      },
      "outputs": [],
      "source": [
        "test=pd.read_csv('option_test_nolabel.csv')"
      ]
    },
    {
      "cell_type": "code",
      "execution_count": null,
      "id": "d65b64c8-5db7-4c32-bb7e-f1fc93e6cbdc",
      "metadata": {
        "id": "d65b64c8-5db7-4c32-bb7e-f1fc93e6cbdc",
        "outputId": "07203dda-9853-4431-e354-06cad5b571ec"
      },
      "outputs": [
        {
          "data": {
            "text/html": [
              "<div>\n",
              "<style scoped>\n",
              "    .dataframe tbody tr th:only-of-type {\n",
              "        vertical-align: middle;\n",
              "    }\n",
              "\n",
              "    .dataframe tbody tr th {\n",
              "        vertical-align: top;\n",
              "    }\n",
              "\n",
              "    .dataframe thead th {\n",
              "        text-align: right;\n",
              "    }\n",
              "</style>\n",
              "<table border=\"1\" class=\"dataframe\">\n",
              "  <thead>\n",
              "    <tr style=\"text-align: right;\">\n",
              "      <th></th>\n",
              "      <th>Unnamed: 0</th>\n",
              "      <th>S</th>\n",
              "      <th>K</th>\n",
              "      <th>tau</th>\n",
              "      <th>r</th>\n",
              "    </tr>\n",
              "  </thead>\n",
              "  <tbody>\n",
              "    <tr>\n",
              "      <th>0</th>\n",
              "      <td>1</td>\n",
              "      <td>1409.28</td>\n",
              "      <td>1325</td>\n",
              "      <td>0.126027</td>\n",
              "      <td>0.0115</td>\n",
              "    </tr>\n",
              "    <tr>\n",
              "      <th>1</th>\n",
              "      <td>2</td>\n",
              "      <td>1505.97</td>\n",
              "      <td>1100</td>\n",
              "      <td>0.315068</td>\n",
              "      <td>0.0110</td>\n",
              "    </tr>\n",
              "    <tr>\n",
              "      <th>2</th>\n",
              "      <td>3</td>\n",
              "      <td>1409.57</td>\n",
              "      <td>1450</td>\n",
              "      <td>0.197260</td>\n",
              "      <td>0.0116</td>\n",
              "    </tr>\n",
              "    <tr>\n",
              "      <th>3</th>\n",
              "      <td>4</td>\n",
              "      <td>1407.81</td>\n",
              "      <td>1250</td>\n",
              "      <td>0.101370</td>\n",
              "      <td>0.0116</td>\n",
              "    </tr>\n",
              "    <tr>\n",
              "      <th>4</th>\n",
              "      <td>5</td>\n",
              "      <td>1494.50</td>\n",
              "      <td>1300</td>\n",
              "      <td>0.194521</td>\n",
              "      <td>0.0110</td>\n",
              "    </tr>\n",
              "  </tbody>\n",
              "</table>\n",
              "</div>"
            ],
            "text/plain": [
              "   Unnamed: 0        S     K       tau       r\n",
              "0           1  1409.28  1325  0.126027  0.0115\n",
              "1           2  1505.97  1100  0.315068  0.0110\n",
              "2           3  1409.57  1450  0.197260  0.0116\n",
              "3           4  1407.81  1250  0.101370  0.0116\n",
              "4           5  1494.50  1300  0.194521  0.0110"
            ]
          },
          "execution_count": 6,
          "metadata": {},
          "output_type": "execute_result"
        }
      ],
      "source": [
        "test.head()"
      ]
    },
    {
      "cell_type": "code",
      "execution_count": null,
      "id": "4384560f-d5e8-4c24-96b9-134bfb7aa2cb",
      "metadata": {
        "id": "4384560f-d5e8-4c24-96b9-134bfb7aa2cb",
        "outputId": "72be665c-68f3-42bf-f74b-167c621fbc32"
      },
      "outputs": [
        {
          "data": {
            "text/html": [
              "<div>\n",
              "<style scoped>\n",
              "    .dataframe tbody tr th:only-of-type {\n",
              "        vertical-align: middle;\n",
              "    }\n",
              "\n",
              "    .dataframe tbody tr th {\n",
              "        vertical-align: top;\n",
              "    }\n",
              "\n",
              "    .dataframe thead th {\n",
              "        text-align: right;\n",
              "    }\n",
              "</style>\n",
              "<table border=\"1\" class=\"dataframe\">\n",
              "  <thead>\n",
              "    <tr style=\"text-align: right;\">\n",
              "      <th></th>\n",
              "      <th>Unnamed: 0</th>\n",
              "      <th>Value</th>\n",
              "      <th>S</th>\n",
              "      <th>K</th>\n",
              "      <th>tau</th>\n",
              "      <th>r</th>\n",
              "    </tr>\n",
              "  </thead>\n",
              "  <tbody>\n",
              "    <tr>\n",
              "      <th>count</th>\n",
              "      <td>5000.000000</td>\n",
              "      <td>5000.000000</td>\n",
              "      <td>5000.000000</td>\n",
              "      <td>5000.000000</td>\n",
              "      <td>5000.000000</td>\n",
              "      <td>5000.000000</td>\n",
              "    </tr>\n",
              "    <tr>\n",
              "      <th>mean</th>\n",
              "      <td>2500.500000</td>\n",
              "      <td>140.316869</td>\n",
              "      <td>1426.643916</td>\n",
              "      <td>1370.244000</td>\n",
              "      <td>0.327615</td>\n",
              "      <td>0.011468</td>\n",
              "    </tr>\n",
              "    <tr>\n",
              "      <th>std</th>\n",
              "      <td>1443.520003</td>\n",
              "      <td>125.155000</td>\n",
              "      <td>56.051523</td>\n",
              "      <td>172.679107</td>\n",
              "      <td>0.231184</td>\n",
              "      <td>0.000448</td>\n",
              "    </tr>\n",
              "    <tr>\n",
              "      <th>min</th>\n",
              "      <td>1.000000</td>\n",
              "      <td>0.281250</td>\n",
              "      <td>1264.740000</td>\n",
              "      <td>750.000000</td>\n",
              "      <td>0.084932</td>\n",
              "      <td>0.010600</td>\n",
              "    </tr>\n",
              "    <tr>\n",
              "      <th>25%</th>\n",
              "      <td>1250.750000</td>\n",
              "      <td>45.750000</td>\n",
              "      <td>1387.670000</td>\n",
              "      <td>1275.000000</td>\n",
              "      <td>0.142466</td>\n",
              "      <td>0.011100</td>\n",
              "    </tr>\n",
              "    <tr>\n",
              "      <th>50%</th>\n",
              "      <td>2500.500000</td>\n",
              "      <td>105.125000</td>\n",
              "      <td>1434.320000</td>\n",
              "      <td>1400.000000</td>\n",
              "      <td>0.238356</td>\n",
              "      <td>0.011400</td>\n",
              "    </tr>\n",
              "    <tr>\n",
              "      <th>75%</th>\n",
              "      <td>3750.250000</td>\n",
              "      <td>200.406250</td>\n",
              "      <td>1469.440000</td>\n",
              "      <td>1475.000000</td>\n",
              "      <td>0.463014</td>\n",
              "      <td>0.011700</td>\n",
              "    </tr>\n",
              "    <tr>\n",
              "      <th>max</th>\n",
              "      <td>5000.000000</td>\n",
              "      <td>685.500000</td>\n",
              "      <td>1527.460000</td>\n",
              "      <td>1995.000000</td>\n",
              "      <td>0.989041</td>\n",
              "      <td>0.012900</td>\n",
              "    </tr>\n",
              "  </tbody>\n",
              "</table>\n",
              "</div>"
            ],
            "text/plain": [
              "        Unnamed: 0        Value            S            K          tau   \n",
              "count  5000.000000  5000.000000  5000.000000  5000.000000  5000.000000  \\\n",
              "mean   2500.500000   140.316869  1426.643916  1370.244000     0.327615   \n",
              "std    1443.520003   125.155000    56.051523   172.679107     0.231184   \n",
              "min       1.000000     0.281250  1264.740000   750.000000     0.084932   \n",
              "25%    1250.750000    45.750000  1387.670000  1275.000000     0.142466   \n",
              "50%    2500.500000   105.125000  1434.320000  1400.000000     0.238356   \n",
              "75%    3750.250000   200.406250  1469.440000  1475.000000     0.463014   \n",
              "max    5000.000000   685.500000  1527.460000  1995.000000     0.989041   \n",
              "\n",
              "                 r  \n",
              "count  5000.000000  \n",
              "mean      0.011468  \n",
              "std       0.000448  \n",
              "min       0.010600  \n",
              "25%       0.011100  \n",
              "50%       0.011400  \n",
              "75%       0.011700  \n",
              "max       0.012900  "
            ]
          },
          "execution_count": 13,
          "metadata": {},
          "output_type": "execute_result"
        }
      ],
      "source": [
        "train.describe()"
      ]
    },
    {
      "cell_type": "code",
      "execution_count": null,
      "id": "622b3356-d6dc-49a6-87c4-d4950723cb5a",
      "metadata": {
        "id": "622b3356-d6dc-49a6-87c4-d4950723cb5a",
        "outputId": "837695fa-dddd-486d-b78e-f32b60e7bd63"
      },
      "outputs": [
        {
          "data": {
            "text/html": [
              "<div>\n",
              "<style scoped>\n",
              "    .dataframe tbody tr th:only-of-type {\n",
              "        vertical-align: middle;\n",
              "    }\n",
              "\n",
              "    .dataframe tbody tr th {\n",
              "        vertical-align: top;\n",
              "    }\n",
              "\n",
              "    .dataframe thead th {\n",
              "        text-align: right;\n",
              "    }\n",
              "</style>\n",
              "<table border=\"1\" class=\"dataframe\">\n",
              "  <thead>\n",
              "    <tr style=\"text-align: right;\">\n",
              "      <th></th>\n",
              "      <th>Unnamed: 0</th>\n",
              "      <th>S</th>\n",
              "      <th>K</th>\n",
              "      <th>tau</th>\n",
              "      <th>r</th>\n",
              "    </tr>\n",
              "  </thead>\n",
              "  <tbody>\n",
              "    <tr>\n",
              "      <th>count</th>\n",
              "      <td>500.000000</td>\n",
              "      <td>500.000000</td>\n",
              "      <td>500.000000</td>\n",
              "      <td>500.000000</td>\n",
              "      <td>500.000000</td>\n",
              "    </tr>\n",
              "    <tr>\n",
              "      <th>mean</th>\n",
              "      <td>250.500000</td>\n",
              "      <td>1425.534580</td>\n",
              "      <td>1360.390000</td>\n",
              "      <td>0.316022</td>\n",
              "      <td>0.011476</td>\n",
              "    </tr>\n",
              "    <tr>\n",
              "      <th>std</th>\n",
              "      <td>144.481833</td>\n",
              "      <td>55.269994</td>\n",
              "      <td>167.710021</td>\n",
              "      <td>0.221916</td>\n",
              "      <td>0.000445</td>\n",
              "    </tr>\n",
              "    <tr>\n",
              "      <th>min</th>\n",
              "      <td>1.000000</td>\n",
              "      <td>1264.740000</td>\n",
              "      <td>850.000000</td>\n",
              "      <td>0.084932</td>\n",
              "      <td>0.010600</td>\n",
              "    </tr>\n",
              "    <tr>\n",
              "      <th>25%</th>\n",
              "      <td>125.750000</td>\n",
              "      <td>1386.170000</td>\n",
              "      <td>1250.000000</td>\n",
              "      <td>0.141781</td>\n",
              "      <td>0.011100</td>\n",
              "    </tr>\n",
              "    <tr>\n",
              "      <th>50%</th>\n",
              "      <td>250.500000</td>\n",
              "      <td>1432.220000</td>\n",
              "      <td>1375.000000</td>\n",
              "      <td>0.235616</td>\n",
              "      <td>0.011400</td>\n",
              "    </tr>\n",
              "    <tr>\n",
              "      <th>75%</th>\n",
              "      <td>375.250000</td>\n",
              "      <td>1467.285000</td>\n",
              "      <td>1470.000000</td>\n",
              "      <td>0.437671</td>\n",
              "      <td>0.011800</td>\n",
              "    </tr>\n",
              "    <tr>\n",
              "      <th>max</th>\n",
              "      <td>500.000000</td>\n",
              "      <td>1527.460000</td>\n",
              "      <td>1995.000000</td>\n",
              "      <td>0.986301</td>\n",
              "      <td>0.012900</td>\n",
              "    </tr>\n",
              "  </tbody>\n",
              "</table>\n",
              "</div>"
            ],
            "text/plain": [
              "       Unnamed: 0            S            K         tau           r\n",
              "count  500.000000   500.000000   500.000000  500.000000  500.000000\n",
              "mean   250.500000  1425.534580  1360.390000    0.316022    0.011476\n",
              "std    144.481833    55.269994   167.710021    0.221916    0.000445\n",
              "min      1.000000  1264.740000   850.000000    0.084932    0.010600\n",
              "25%    125.750000  1386.170000  1250.000000    0.141781    0.011100\n",
              "50%    250.500000  1432.220000  1375.000000    0.235616    0.011400\n",
              "75%    375.250000  1467.285000  1470.000000    0.437671    0.011800\n",
              "max    500.000000  1527.460000  1995.000000    0.986301    0.012900"
            ]
          },
          "execution_count": 14,
          "metadata": {},
          "output_type": "execute_result"
        }
      ],
      "source": [
        "test.describe()"
      ]
    },
    {
      "cell_type": "markdown",
      "id": "b453f782-8038-48ae-9290-ebc3a26c6000",
      "metadata": {
        "id": "b453f782-8038-48ae-9290-ebc3a26c6000"
      },
      "source": [
        "# Regression"
      ]
    },
    {
      "cell_type": "code",
      "execution_count": null,
      "id": "edace3ec-90da-462b-88e1-d02166e80c8e",
      "metadata": {
        "id": "edace3ec-90da-462b-88e1-d02166e80c8e",
        "outputId": "0c0fbb6f-8cce-4332-8b89-e3b1c5f8c3e5"
      },
      "outputs": [
        {
          "name": "stdout",
          "output_type": "stream",
          "text": [
            "mse 1138.3652085124734\n",
            "mae 23.72104832840156\n",
            "r2 0.9303135237337722\n"
          ]
        }
      ],
      "source": [
        "#training the model with 80% data set and then testing with 20% train data to check accuracy\n",
        "#Linear Regression\n",
        "X = train[['S', 'K', 'tau','r']]\n",
        "y = train['Value']\n",
        "X_train, X_test, y_train, y_test = train_test_split(X, y, test_size=0.2, random_state=10)\n",
        "linear = LinearRegression()\n",
        "linear.fit(X_train, y_train)\n",
        "y_pred = linear.predict(X_test)\n",
        "\n",
        "mse = mean_squared_error(y_test, y_pred)\n",
        "mae = mean_absolute_error(y_test, y_pred)\n",
        "r_squared = r2_score(y_test, y_pred)\n",
        "print(\"mse\", mse)\n",
        "print(\"mae\", mae)\n",
        "print(\"r2\", r_squared)"
      ]
    },
    {
      "cell_type": "code",
      "execution_count": null,
      "id": "d1148f26-24b3-49fc-ad67-7e1657f01ca2",
      "metadata": {
        "id": "d1148f26-24b3-49fc-ad67-7e1657f01ca2",
        "outputId": "e0212648-a30d-4225-dc51-4a8174b7a63a"
      },
      "outputs": [
        {
          "name": "stdout",
          "output_type": "stream",
          "text": [
            "mse 110.535662109375\n",
            "mae 6.2855\n",
            "r2 0.9932334186458297\n"
          ]
        }
      ],
      "source": [
        "#decision tree\n",
        "\n",
        "dt = DecisionTreeRegressor(random_state=10)\n",
        "dt.fit(X_train, y_train)\n",
        "y_pred = dt.predict(X_test)\n",
        "\n",
        "mse = mean_squared_error(y_test, y_pred)\n",
        "mae = mean_absolute_error(y_test, y_pred)\n",
        "r_squared = r2_score(y_test, y_pred)\n",
        "print(\"mse\", mse)\n",
        "print(\"mae\", mae)\n",
        "print(\"r2\", r_squared)"
      ]
    },
    {
      "cell_type": "code",
      "execution_count": null,
      "id": "c95323cd-b085-42cf-8b89-bec16b71291c",
      "metadata": {
        "id": "c95323cd-b085-42cf-8b89-bec16b71291c",
        "outputId": "b561e26f-caeb-4696-c389-1285f233ef5a"
      },
      "outputs": [
        {
          "name": "stdout",
          "output_type": "stream",
          "text": [
            "mse 51.920418496875016\n",
            "mae 4.883799999999999\n",
            "r2 0.9968216254465094\n"
          ]
        }
      ],
      "source": [
        "#random forest regression\n",
        "\n",
        "rf = RandomForestRegressor(n_estimators=100, random_state=10)\n",
        "rf.fit(X_train, y_train)\n",
        "y_pred = rf.predict(X_test)\n",
        "\n",
        "mse = mean_squared_error(y_test, y_pred)\n",
        "mae = mean_absolute_error(y_test, y_pred)\n",
        "r_squared = r2_score(y_test, y_pred)\n",
        "print(\"mse\", mse)\n",
        "print(\"mae\", mae)\n",
        "print(\"r2\", r_squared)"
      ]
    },
    {
      "cell_type": "code",
      "execution_count": null,
      "id": "8b096f95-94e2-4af7-ae3b-115bf598ed31",
      "metadata": {
        "id": "8b096f95-94e2-4af7-ae3b-115bf598ed31",
        "outputId": "4810e3b8-fcc4-40eb-d507-250df13e8ffa"
      },
      "outputs": [
        {
          "name": "stdout",
          "output_type": "stream",
          "text": [
            "mse 45.73165510589569\n",
            "mae 4.64485252700001\n",
            "r2 0.9972004784806129\n"
          ]
        }
      ],
      "source": [
        "import xgboost as xgb\n",
        "\n",
        "\n",
        "xg_reg = xgb.XGBRegressor(objective ='reg:squarederror',random_state=10)\n",
        "\n",
        "xg_reg.fit(X_train,y_train)\n",
        "\n",
        "\n",
        "y_pred = xg_reg.predict(X_test)\n",
        "\n",
        "\n",
        "mse = mean_squared_error(y_test, y_pred)\n",
        "mae = mean_absolute_error(y_test, y_pred)\n",
        "r_squared = r2_score(y_test, y_pred)\n",
        "\n",
        "\n",
        "print(\"mse\", mse)\n",
        "print(\"mae\", mae)\n",
        "print(\"r2\", r_squared)\n"
      ]
    },
    {
      "cell_type": "code",
      "execution_count": null,
      "id": "6f3e2ac1-10b6-43ab-b2e3-4411176d1f3a",
      "metadata": {
        "id": "6f3e2ac1-10b6-43ab-b2e3-4411176d1f3a"
      },
      "outputs": [],
      "source": [
        "X_test2 = test[['S', 'K', 'tau','r']]"
      ]
    },
    {
      "cell_type": "code",
      "execution_count": null,
      "id": "2f706bfc-bec1-4941-a9ce-9ea37f9fcc13",
      "metadata": {
        "id": "2f706bfc-bec1-4941-a9ce-9ea37f9fcc13",
        "outputId": "f177fa2e-e868-40b8-94fd-568010d530e4"
      },
      "outputs": [
        {
          "data": {
            "text/html": [
              "<div>\n",
              "<style scoped>\n",
              "    .dataframe tbody tr th:only-of-type {\n",
              "        vertical-align: middle;\n",
              "    }\n",
              "\n",
              "    .dataframe tbody tr th {\n",
              "        vertical-align: top;\n",
              "    }\n",
              "\n",
              "    .dataframe thead th {\n",
              "        text-align: right;\n",
              "    }\n",
              "</style>\n",
              "<table border=\"1\" class=\"dataframe\">\n",
              "  <thead>\n",
              "    <tr style=\"text-align: right;\">\n",
              "      <th></th>\n",
              "      <th>Predicted_Value</th>\n",
              "    </tr>\n",
              "  </thead>\n",
              "  <tbody>\n",
              "    <tr>\n",
              "      <th>0</th>\n",
              "      <td>129.099908</td>\n",
              "    </tr>\n",
              "    <tr>\n",
              "      <th>1</th>\n",
              "      <td>367.296192</td>\n",
              "    </tr>\n",
              "    <tr>\n",
              "      <th>2</th>\n",
              "      <td>56.775292</td>\n",
              "    </tr>\n",
              "    <tr>\n",
              "      <th>3</th>\n",
              "      <td>174.693947</td>\n",
              "    </tr>\n",
              "    <tr>\n",
              "      <th>4</th>\n",
              "      <td>208.393218</td>\n",
              "    </tr>\n",
              "  </tbody>\n",
              "</table>\n",
              "</div>"
            ],
            "text/plain": [
              "   Predicted_Value\n",
              "0       129.099908\n",
              "1       367.296192\n",
              "2        56.775292\n",
              "3       174.693947\n",
              "4       208.393218"
            ]
          },
          "execution_count": 20,
          "metadata": {},
          "output_type": "execute_result"
        }
      ],
      "source": [
        "linear_pred = linear.predict(X_test2)\n",
        "linear_df = pd.DataFrame({'Predicted_Value': linear_pred})\n",
        "linear_df.head()"
      ]
    },
    {
      "cell_type": "code",
      "execution_count": null,
      "id": "a4d78a08-fcf6-4516-aef1-f9a2785c4e6e",
      "metadata": {
        "id": "a4d78a08-fcf6-4516-aef1-f9a2785c4e6e",
        "outputId": "c1b0305f-9dc1-4b8d-d131-707aa9bf267b"
      },
      "outputs": [
        {
          "data": {
            "text/html": [
              "<div>\n",
              "<style scoped>\n",
              "    .dataframe tbody tr th:only-of-type {\n",
              "        vertical-align: middle;\n",
              "    }\n",
              "\n",
              "    .dataframe tbody tr th {\n",
              "        vertical-align: top;\n",
              "    }\n",
              "\n",
              "    .dataframe thead th {\n",
              "        text-align: right;\n",
              "    }\n",
              "</style>\n",
              "<table border=\"1\" class=\"dataframe\">\n",
              "  <thead>\n",
              "    <tr style=\"text-align: right;\">\n",
              "      <th></th>\n",
              "      <th>Predicted_Value</th>\n",
              "    </tr>\n",
              "  </thead>\n",
              "  <tbody>\n",
              "    <tr>\n",
              "      <th>0</th>\n",
              "      <td>117.375</td>\n",
              "    </tr>\n",
              "    <tr>\n",
              "      <th>1</th>\n",
              "      <td>422.750</td>\n",
              "    </tr>\n",
              "    <tr>\n",
              "      <th>2</th>\n",
              "      <td>37.500</td>\n",
              "    </tr>\n",
              "    <tr>\n",
              "      <th>3</th>\n",
              "      <td>185.000</td>\n",
              "    </tr>\n",
              "    <tr>\n",
              "      <th>4</th>\n",
              "      <td>246.750</td>\n",
              "    </tr>\n",
              "  </tbody>\n",
              "</table>\n",
              "</div>"
            ],
            "text/plain": [
              "   Predicted_Value\n",
              "0          117.375\n",
              "1          422.750\n",
              "2           37.500\n",
              "3          185.000\n",
              "4          246.750"
            ]
          },
          "execution_count": 21,
          "metadata": {},
          "output_type": "execute_result"
        }
      ],
      "source": [
        "dt_pred = dt.predict(X_test2)\n",
        "dt_df = pd.DataFrame({'Predicted_Value': dt_pred})\n",
        "dt_df.head()"
      ]
    },
    {
      "cell_type": "code",
      "execution_count": null,
      "id": "ae68a737-949b-4c6d-b37f-1cfe9b8bae69",
      "metadata": {
        "id": "ae68a737-949b-4c6d-b37f-1cfe9b8bae69",
        "outputId": "505f9748-5090-43f5-c2d4-55ce0961badf"
      },
      "outputs": [
        {
          "data": {
            "text/html": [
              "<div>\n",
              "<style scoped>\n",
              "    .dataframe tbody tr th:only-of-type {\n",
              "        vertical-align: middle;\n",
              "    }\n",
              "\n",
              "    .dataframe tbody tr th {\n",
              "        vertical-align: top;\n",
              "    }\n",
              "\n",
              "    .dataframe thead th {\n",
              "        text-align: right;\n",
              "    }\n",
              "</style>\n",
              "<table border=\"1\" class=\"dataframe\">\n",
              "  <thead>\n",
              "    <tr style=\"text-align: right;\">\n",
              "      <th></th>\n",
              "      <th>Predicted_Value</th>\n",
              "    </tr>\n",
              "  </thead>\n",
              "  <tbody>\n",
              "    <tr>\n",
              "      <th>0</th>\n",
              "      <td>111.92125</td>\n",
              "    </tr>\n",
              "    <tr>\n",
              "      <th>1</th>\n",
              "      <td>427.12625</td>\n",
              "    </tr>\n",
              "    <tr>\n",
              "      <th>2</th>\n",
              "      <td>37.77625</td>\n",
              "    </tr>\n",
              "    <tr>\n",
              "      <th>3</th>\n",
              "      <td>182.86625</td>\n",
              "    </tr>\n",
              "    <tr>\n",
              "      <th>4</th>\n",
              "      <td>219.43375</td>\n",
              "    </tr>\n",
              "  </tbody>\n",
              "</table>\n",
              "</div>"
            ],
            "text/plain": [
              "   Predicted_Value\n",
              "0        111.92125\n",
              "1        427.12625\n",
              "2         37.77625\n",
              "3        182.86625\n",
              "4        219.43375"
            ]
          },
          "execution_count": 22,
          "metadata": {},
          "output_type": "execute_result"
        }
      ],
      "source": [
        "rf_pred = rf.predict(X_test2)\n",
        "rf_df = pd.DataFrame({'Predicted_Value': rf_pred})\n",
        "rf_df.head()"
      ]
    },
    {
      "cell_type": "code",
      "execution_count": null,
      "id": "77a243ab-138d-4b74-a375-cf4be9942e77",
      "metadata": {
        "id": "77a243ab-138d-4b74-a375-cf4be9942e77",
        "outputId": "4550ec14-d2a8-416e-ff3b-f18b27fc3c7b"
      },
      "outputs": [
        {
          "data": {
            "text/html": [
              "<div>\n",
              "<style scoped>\n",
              "    .dataframe tbody tr th:only-of-type {\n",
              "        vertical-align: middle;\n",
              "    }\n",
              "\n",
              "    .dataframe tbody tr th {\n",
              "        vertical-align: top;\n",
              "    }\n",
              "\n",
              "    .dataframe thead th {\n",
              "        text-align: right;\n",
              "    }\n",
              "</style>\n",
              "<table border=\"1\" class=\"dataframe\">\n",
              "  <thead>\n",
              "    <tr style=\"text-align: right;\">\n",
              "      <th></th>\n",
              "      <th>Predicted_Value</th>\n",
              "    </tr>\n",
              "  </thead>\n",
              "  <tbody>\n",
              "    <tr>\n",
              "      <th>0</th>\n",
              "      <td>106.563858</td>\n",
              "    </tr>\n",
              "    <tr>\n",
              "      <th>1</th>\n",
              "      <td>429.089966</td>\n",
              "    </tr>\n",
              "    <tr>\n",
              "      <th>2</th>\n",
              "      <td>55.203102</td>\n",
              "    </tr>\n",
              "    <tr>\n",
              "      <th>3</th>\n",
              "      <td>186.389603</td>\n",
              "    </tr>\n",
              "    <tr>\n",
              "      <th>4</th>\n",
              "      <td>215.617935</td>\n",
              "    </tr>\n",
              "  </tbody>\n",
              "</table>\n",
              "</div>"
            ],
            "text/plain": [
              "   Predicted_Value\n",
              "0       106.563858\n",
              "1       429.089966\n",
              "2        55.203102\n",
              "3       186.389603\n",
              "4       215.617935"
            ]
          },
          "execution_count": 23,
          "metadata": {},
          "output_type": "execute_result"
        }
      ],
      "source": [
        "xg_pred = xg_reg.predict(X_test2)\n",
        "xg_df = pd.DataFrame({'Predicted_Value': xg_pred})\n",
        "xg_df.head()"
      ]
    },
    {
      "cell_type": "code",
      "execution_count": null,
      "id": "dded37ea-6188-4be0-b64a-64cead11eaa0",
      "metadata": {
        "id": "dded37ea-6188-4be0-b64a-64cead11eaa0"
      },
      "outputs": [],
      "source": [
        "#Using whole training data to train the model\n",
        "\n",
        "X_train_final = train[['S', 'K', 'tau','r']]\n",
        "y_train_final = train['Value']\n",
        "xg = xgb.XGBRegressor(objective ='reg:squarederror',random_state=10)\n",
        "xg.fit(X_train_final, y_train_final)\n",
        "X_test_final = test[['S', 'K', 'tau','r']]\n",
        "y_pred_final_reg = xg.predict(X_test_final)"
      ]
    },
    {
      "cell_type": "code",
      "execution_count": null,
      "id": "f5520866-2a42-4c91-9524-c4de2a905cef",
      "metadata": {
        "id": "f5520866-2a42-4c91-9524-c4de2a905cef",
        "outputId": "93175ecf-e064-4ccc-cc15-19e7f47a8554"
      },
      "outputs": [
        {
          "data": {
            "text/html": [
              "<div>\n",
              "<style scoped>\n",
              "    .dataframe tbody tr th:only-of-type {\n",
              "        vertical-align: middle;\n",
              "    }\n",
              "\n",
              "    .dataframe tbody tr th {\n",
              "        vertical-align: top;\n",
              "    }\n",
              "\n",
              "    .dataframe thead th {\n",
              "        text-align: right;\n",
              "    }\n",
              "</style>\n",
              "<table border=\"1\" class=\"dataframe\">\n",
              "  <thead>\n",
              "    <tr style=\"text-align: right;\">\n",
              "      <th></th>\n",
              "      <th>Value</th>\n",
              "    </tr>\n",
              "  </thead>\n",
              "  <tbody>\n",
              "    <tr>\n",
              "      <th>0</th>\n",
              "      <td>100.284683</td>\n",
              "    </tr>\n",
              "    <tr>\n",
              "      <th>1</th>\n",
              "      <td>433.265778</td>\n",
              "    </tr>\n",
              "    <tr>\n",
              "      <th>2</th>\n",
              "      <td>49.626385</td>\n",
              "    </tr>\n",
              "    <tr>\n",
              "      <th>3</th>\n",
              "      <td>179.687683</td>\n",
              "    </tr>\n",
              "    <tr>\n",
              "      <th>4</th>\n",
              "      <td>223.744568</td>\n",
              "    </tr>\n",
              "  </tbody>\n",
              "</table>\n",
              "</div>"
            ],
            "text/plain": [
              "        Value\n",
              "0  100.284683\n",
              "1  433.265778\n",
              "2   49.626385\n",
              "3  179.687683\n",
              "4  223.744568"
            ]
          },
          "execution_count": 40,
          "metadata": {},
          "output_type": "execute_result"
        }
      ],
      "source": [
        "final_df = pd.DataFrame({'Value':y_pred_final_reg })\n",
        "final_df.head()"
      ]
    },
    {
      "cell_type": "markdown",
      "id": "b0d0b1e9-c276-4311-88ee-a7017e71858b",
      "metadata": {
        "id": "b0d0b1e9-c276-4311-88ee-a7017e71858b"
      },
      "source": [
        "# Classification"
      ]
    },
    {
      "cell_type": "code",
      "execution_count": null,
      "id": "e43ad759-3d60-42ef-b0a8-af66e44d996e",
      "metadata": {
        "id": "e43ad759-3d60-42ef-b0a8-af66e44d996e"
      },
      "outputs": [],
      "source": [
        "#basic logistic regression\n",
        "\n",
        "from sklearn.model_selection import train_test_split\n",
        "from sklearn.linear_model import LogisticRegression\n",
        "from sklearn.metrics import classification_report, confusion_matrix\n",
        "\n",
        "X = train[['Value', 'S', 'K', 'tau','r']]\n",
        "y = train['BS']\n",
        "\n",
        "X_train, X_test, y_train, y_test = train_test_split(X, y, test_size=0.2, random_state=10)\n",
        "\n",
        "lr_model = LogisticRegression()\n",
        "lr_model.fit(X_train, y_train)\n",
        "lr_pred = lr_model.predict(X_test)"
      ]
    },
    {
      "cell_type": "code",
      "execution_count": null,
      "id": "bdf0caa7-a53b-4287-9b36-d2be1a3b1f0a",
      "metadata": {
        "id": "bdf0caa7-a53b-4287-9b36-d2be1a3b1f0a",
        "outputId": "b1a81615-4f6e-4caa-f37d-79d415883411"
      },
      "outputs": [
        {
          "name": "stdout",
          "output_type": "stream",
          "text": [
            "Accuracy: 0.926\n",
            "classification error rate: 0.07399999999999995\n"
          ]
        }
      ],
      "source": [
        "from sklearn.metrics import accuracy_score\n",
        "accuracy_lr = accuracy_score(y_test, lr_pred)\n",
        "print(\"Accuracy:\", accuracy_lr)\n",
        "classification_er_lr=1-accuracy_lr\n",
        "print(\"classification error rate:\",classification_er_lr)"
      ]
    },
    {
      "cell_type": "code",
      "execution_count": null,
      "id": "ba20eb49-ae62-4926-99b7-173a59d1574f",
      "metadata": {
        "id": "ba20eb49-ae62-4926-99b7-173a59d1574f",
        "outputId": "18ee8c68-0fa4-4069-cd6a-154116f63ff5"
      },
      "outputs": [
        {
          "name": "stdout",
          "output_type": "stream",
          "text": [
            "class report\n",
            "              precision    recall  f1-score   support\n",
            "\n",
            "        Over       0.87      0.86      0.86       226\n",
            "       Under       0.96      0.96      0.96       774\n",
            "\n",
            "    accuracy                           0.94      1000\n",
            "   macro avg       0.91      0.91      0.91      1000\n",
            "weighted avg       0.94      0.94      0.94      1000\n",
            "\n",
            "accuracy 0.939\n",
            "classification error rate: 0.061000000000000054\n"
          ]
        }
      ],
      "source": [
        "#decision tree\n",
        "\n",
        "from sklearn.tree import DecisionTreeClassifier\n",
        "dt_model = DecisionTreeClassifier()\n",
        "dt_model.fit(X_train, y_train)\n",
        "dt_pred = dt_model.predict(X_test)\n",
        "\n",
        "print(\"class report\")\n",
        "print(classification_report(y_test, dt_pred))\n",
        "accuracy_dt = accuracy_score(y_test, dt_pred)\n",
        "print(\"accuracy\", accuracy_dt)\n",
        "classification_er_dt=1-accuracy_dt\n",
        "print(\"classification error rate:\",classification_er_dt)"
      ]
    },
    {
      "cell_type": "code",
      "execution_count": null,
      "id": "7d1ba52a-789d-491f-a97c-bba8b1a4421f",
      "metadata": {
        "id": "7d1ba52a-789d-491f-a97c-bba8b1a4421f",
        "outputId": "858e7e33-c1f9-418f-e138-0aea4841a116"
      },
      "outputs": [
        {
          "name": "stdout",
          "output_type": "stream",
          "text": [
            "class report\n",
            "              precision    recall  f1-score   support\n",
            "\n",
            "        Over       0.91      0.89      0.90       226\n",
            "       Under       0.97      0.97      0.97       774\n",
            "\n",
            "    accuracy                           0.95      1000\n",
            "   macro avg       0.94      0.93      0.94      1000\n",
            "weighted avg       0.95      0.95      0.95      1000\n",
            "\n",
            "accuracy 0.955\n",
            "classification error rate: 0.04500000000000004\n"
          ]
        }
      ],
      "source": [
        "#random forest\n",
        "from sklearn.ensemble import RandomForestClassifier\n",
        "rf_model = RandomForestClassifier()\n",
        "rf_model.fit(X_train, y_train)\n",
        "rf_pred = rf_model.predict(X_test)\n",
        "print(\"class report\")\n",
        "print(classification_report(y_test, rf_pred))\n",
        "accuracy_rf = accuracy_score(y_test, rf_pred)\n",
        "print(\"accuracy\", accuracy_rf)\n",
        "classification_er_rf=1-accuracy_rf\n",
        "print(\"classification error rate:\",classification_er_rf)"
      ]
    },
    {
      "cell_type": "code",
      "execution_count": null,
      "id": "e5ded6bc-f7b9-4885-b005-668290a0cb4b",
      "metadata": {
        "id": "e5ded6bc-f7b9-4885-b005-668290a0cb4b"
      },
      "outputs": [],
      "source": [
        "#Using whole training data to train the model\n",
        "\n",
        "X_train_final = train[['S', 'K', 'tau','r']]\n",
        "y_train_final = train['BS']\n",
        "rf1 = RandomForestClassifier()\n",
        "rf1.fit(X_train_final, y_train_final)\n",
        "X_test_final = test[['S', 'K', 'tau','r']]\n",
        "y_pred_final_class = rf1.predict(X_test_final)\n",
        "final_df['BS'] = y_pred_final_class"
      ]
    },
    {
      "cell_type": "code",
      "execution_count": null,
      "id": "fcae4c34-db76-44e5-9fe2-340af349e8f1",
      "metadata": {
        "id": "fcae4c34-db76-44e5-9fe2-340af349e8f1",
        "outputId": "a6dfc2bc-6ba9-4190-9af4-e7d13cabc1cd"
      },
      "outputs": [
        {
          "data": {
            "text/html": [
              "<div>\n",
              "<style scoped>\n",
              "    .dataframe tbody tr th:only-of-type {\n",
              "        vertical-align: middle;\n",
              "    }\n",
              "\n",
              "    .dataframe tbody tr th {\n",
              "        vertical-align: top;\n",
              "    }\n",
              "\n",
              "    .dataframe thead th {\n",
              "        text-align: right;\n",
              "    }\n",
              "</style>\n",
              "<table border=\"1\" class=\"dataframe\">\n",
              "  <thead>\n",
              "    <tr style=\"text-align: right;\">\n",
              "      <th></th>\n",
              "      <th>Value</th>\n",
              "      <th>BS</th>\n",
              "    </tr>\n",
              "  </thead>\n",
              "  <tbody>\n",
              "    <tr>\n",
              "      <th>0</th>\n",
              "      <td>100.284683</td>\n",
              "      <td>Under</td>\n",
              "    </tr>\n",
              "    <tr>\n",
              "      <th>1</th>\n",
              "      <td>433.265778</td>\n",
              "      <td>Under</td>\n",
              "    </tr>\n",
              "    <tr>\n",
              "      <th>2</th>\n",
              "      <td>49.626385</td>\n",
              "      <td>Under</td>\n",
              "    </tr>\n",
              "    <tr>\n",
              "      <th>3</th>\n",
              "      <td>179.687683</td>\n",
              "      <td>Under</td>\n",
              "    </tr>\n",
              "    <tr>\n",
              "      <th>4</th>\n",
              "      <td>223.744568</td>\n",
              "      <td>Under</td>\n",
              "    </tr>\n",
              "    <tr>\n",
              "      <th>5</th>\n",
              "      <td>270.919159</td>\n",
              "      <td>Under</td>\n",
              "    </tr>\n",
              "    <tr>\n",
              "      <th>6</th>\n",
              "      <td>37.683331</td>\n",
              "      <td>Over</td>\n",
              "    </tr>\n",
              "    <tr>\n",
              "      <th>7</th>\n",
              "      <td>251.707886</td>\n",
              "      <td>Under</td>\n",
              "    </tr>\n",
              "    <tr>\n",
              "      <th>8</th>\n",
              "      <td>286.032898</td>\n",
              "      <td>Under</td>\n",
              "    </tr>\n",
              "    <tr>\n",
              "      <th>9</th>\n",
              "      <td>109.398949</td>\n",
              "      <td>Under</td>\n",
              "    </tr>\n",
              "    <tr>\n",
              "      <th>10</th>\n",
              "      <td>75.846855</td>\n",
              "      <td>Under</td>\n",
              "    </tr>\n",
              "    <tr>\n",
              "      <th>11</th>\n",
              "      <td>132.555634</td>\n",
              "      <td>Under</td>\n",
              "    </tr>\n",
              "    <tr>\n",
              "      <th>12</th>\n",
              "      <td>6.374206</td>\n",
              "      <td>Over</td>\n",
              "    </tr>\n",
              "    <tr>\n",
              "      <th>13</th>\n",
              "      <td>82.681015</td>\n",
              "      <td>Under</td>\n",
              "    </tr>\n",
              "    <tr>\n",
              "      <th>14</th>\n",
              "      <td>200.922272</td>\n",
              "      <td>Under</td>\n",
              "    </tr>\n",
              "    <tr>\n",
              "      <th>15</th>\n",
              "      <td>22.390759</td>\n",
              "      <td>Over</td>\n",
              "    </tr>\n",
              "    <tr>\n",
              "      <th>16</th>\n",
              "      <td>32.567314</td>\n",
              "      <td>Over</td>\n",
              "    </tr>\n",
              "    <tr>\n",
              "      <th>17</th>\n",
              "      <td>50.577030</td>\n",
              "      <td>Under</td>\n",
              "    </tr>\n",
              "    <tr>\n",
              "      <th>18</th>\n",
              "      <td>40.183777</td>\n",
              "      <td>Under</td>\n",
              "    </tr>\n",
              "    <tr>\n",
              "      <th>19</th>\n",
              "      <td>77.377426</td>\n",
              "      <td>Under</td>\n",
              "    </tr>\n",
              "  </tbody>\n",
              "</table>\n",
              "</div>"
            ],
            "text/plain": [
              "         Value     BS\n",
              "0   100.284683  Under\n",
              "1   433.265778  Under\n",
              "2    49.626385  Under\n",
              "3   179.687683  Under\n",
              "4   223.744568  Under\n",
              "5   270.919159  Under\n",
              "6    37.683331   Over\n",
              "7   251.707886  Under\n",
              "8   286.032898  Under\n",
              "9   109.398949  Under\n",
              "10   75.846855  Under\n",
              "11  132.555634  Under\n",
              "12    6.374206   Over\n",
              "13   82.681015  Under\n",
              "14  200.922272  Under\n",
              "15   22.390759   Over\n",
              "16   32.567314   Over\n",
              "17   50.577030  Under\n",
              "18   40.183777  Under\n",
              "19   77.377426  Under"
            ]
          },
          "execution_count": 43,
          "metadata": {},
          "output_type": "execute_result"
        }
      ],
      "source": [
        "final_df.head(20)"
      ]
    },
    {
      "cell_type": "code",
      "execution_count": null,
      "id": "f058bd53-ca99-4b89-a13b-0f43c4be6122",
      "metadata": {
        "id": "f058bd53-ca99-4b89-a13b-0f43c4be6122"
      },
      "outputs": [],
      "source": [
        "final_df['BS'] = final_df['BS'].map({'Over': 1, 'Under': 0})"
      ]
    },
    {
      "cell_type": "code",
      "execution_count": null,
      "id": "8befb4c2-e9b9-418a-affd-57c3da0657e6",
      "metadata": {
        "id": "8befb4c2-e9b9-418a-affd-57c3da0657e6",
        "outputId": "7b47b571-2f69-4fdd-993c-b1969ade4739"
      },
      "outputs": [
        {
          "data": {
            "text/html": [
              "<div>\n",
              "<style scoped>\n",
              "    .dataframe tbody tr th:only-of-type {\n",
              "        vertical-align: middle;\n",
              "    }\n",
              "\n",
              "    .dataframe tbody tr th {\n",
              "        vertical-align: top;\n",
              "    }\n",
              "\n",
              "    .dataframe thead th {\n",
              "        text-align: right;\n",
              "    }\n",
              "</style>\n",
              "<table border=\"1\" class=\"dataframe\">\n",
              "  <thead>\n",
              "    <tr style=\"text-align: right;\">\n",
              "      <th></th>\n",
              "      <th>Value</th>\n",
              "      <th>BS</th>\n",
              "    </tr>\n",
              "  </thead>\n",
              "  <tbody>\n",
              "    <tr>\n",
              "      <th>0</th>\n",
              "      <td>100.284683</td>\n",
              "      <td>0</td>\n",
              "    </tr>\n",
              "    <tr>\n",
              "      <th>1</th>\n",
              "      <td>433.265778</td>\n",
              "      <td>0</td>\n",
              "    </tr>\n",
              "    <tr>\n",
              "      <th>2</th>\n",
              "      <td>49.626385</td>\n",
              "      <td>0</td>\n",
              "    </tr>\n",
              "    <tr>\n",
              "      <th>3</th>\n",
              "      <td>179.687683</td>\n",
              "      <td>0</td>\n",
              "    </tr>\n",
              "    <tr>\n",
              "      <th>4</th>\n",
              "      <td>223.744568</td>\n",
              "      <td>0</td>\n",
              "    </tr>\n",
              "    <tr>\n",
              "      <th>5</th>\n",
              "      <td>270.919159</td>\n",
              "      <td>0</td>\n",
              "    </tr>\n",
              "    <tr>\n",
              "      <th>6</th>\n",
              "      <td>37.683331</td>\n",
              "      <td>1</td>\n",
              "    </tr>\n",
              "    <tr>\n",
              "      <th>7</th>\n",
              "      <td>251.707886</td>\n",
              "      <td>0</td>\n",
              "    </tr>\n",
              "    <tr>\n",
              "      <th>8</th>\n",
              "      <td>286.032898</td>\n",
              "      <td>0</td>\n",
              "    </tr>\n",
              "    <tr>\n",
              "      <th>9</th>\n",
              "      <td>109.398949</td>\n",
              "      <td>0</td>\n",
              "    </tr>\n",
              "    <tr>\n",
              "      <th>10</th>\n",
              "      <td>75.846855</td>\n",
              "      <td>0</td>\n",
              "    </tr>\n",
              "    <tr>\n",
              "      <th>11</th>\n",
              "      <td>132.555634</td>\n",
              "      <td>0</td>\n",
              "    </tr>\n",
              "    <tr>\n",
              "      <th>12</th>\n",
              "      <td>6.374206</td>\n",
              "      <td>1</td>\n",
              "    </tr>\n",
              "    <tr>\n",
              "      <th>13</th>\n",
              "      <td>82.681015</td>\n",
              "      <td>0</td>\n",
              "    </tr>\n",
              "    <tr>\n",
              "      <th>14</th>\n",
              "      <td>200.922272</td>\n",
              "      <td>0</td>\n",
              "    </tr>\n",
              "    <tr>\n",
              "      <th>15</th>\n",
              "      <td>22.390759</td>\n",
              "      <td>1</td>\n",
              "    </tr>\n",
              "    <tr>\n",
              "      <th>16</th>\n",
              "      <td>32.567314</td>\n",
              "      <td>1</td>\n",
              "    </tr>\n",
              "    <tr>\n",
              "      <th>17</th>\n",
              "      <td>50.577030</td>\n",
              "      <td>0</td>\n",
              "    </tr>\n",
              "    <tr>\n",
              "      <th>18</th>\n",
              "      <td>40.183777</td>\n",
              "      <td>0</td>\n",
              "    </tr>\n",
              "    <tr>\n",
              "      <th>19</th>\n",
              "      <td>77.377426</td>\n",
              "      <td>0</td>\n",
              "    </tr>\n",
              "  </tbody>\n",
              "</table>\n",
              "</div>"
            ],
            "text/plain": [
              "         Value  BS\n",
              "0   100.284683   0\n",
              "1   433.265778   0\n",
              "2    49.626385   0\n",
              "3   179.687683   0\n",
              "4   223.744568   0\n",
              "5   270.919159   0\n",
              "6    37.683331   1\n",
              "7   251.707886   0\n",
              "8   286.032898   0\n",
              "9   109.398949   0\n",
              "10   75.846855   0\n",
              "11  132.555634   0\n",
              "12    6.374206   1\n",
              "13   82.681015   0\n",
              "14  200.922272   0\n",
              "15   22.390759   1\n",
              "16   32.567314   1\n",
              "17   50.577030   0\n",
              "18   40.183777   0\n",
              "19   77.377426   0"
            ]
          },
          "execution_count": 47,
          "metadata": {},
          "output_type": "execute_result"
        }
      ],
      "source": [
        "final_df.head(20)"
      ]
    },
    {
      "cell_type": "code",
      "execution_count": null,
      "id": "6b9ca9a1-01dc-4d0e-90d5-3858ca388cea",
      "metadata": {
        "id": "6b9ca9a1-01dc-4d0e-90d5-3858ca388cea"
      },
      "outputs": [],
      "source": [
        "final_df.to_csv('group_44_prediction.csv', index=False)"
      ]
    },
    {
      "cell_type": "code",
      "execution_count": null,
      "id": "290ab61c-2b85-4154-b2b2-2ba4f6c3ea86",
      "metadata": {
        "id": "290ab61c-2b85-4154-b2b2-2ba4f6c3ea86"
      },
      "outputs": [],
      "source": []
    }
  ],
  "metadata": {
    "kernelspec": {
      "display_name": "Python 3 (ipykernel)",
      "language": "python",
      "name": "python3"
    },
    "language_info": {
      "codemirror_mode": {
        "name": "ipython",
        "version": 3
      },
      "file_extension": ".py",
      "mimetype": "text/x-python",
      "name": "python",
      "nbconvert_exporter": "python",
      "pygments_lexer": "ipython3",
      "version": "3.11.4"
    },
    "colab": {
      "provenance": []
    }
  },
  "nbformat": 4,
  "nbformat_minor": 5
}